{
 "cells": [
  {
   "cell_type": "code",
   "execution_count": 1,
   "metadata": {},
   "outputs": [],
   "source": [
    "%matplotlib inline\n",
    "\n",
    "import numpy as np\n",
    "import sympy as sp\n",
    "import matplotlib.pyplot as plt\n",
    "import random"
   ]
  },
  {
   "cell_type": "markdown",
   "metadata": {},
   "source": [
    "#### 輸入1~5的數字訂為n\n",
    "#### 將會生出rank為n的5x5矩陣\n",
    "#### 矩陣內數字從-6~6隨機選取"
   ]
  },
  {
   "cell_type": "code",
   "execution_count": 2,
   "metadata": {},
   "outputs": [
    {
     "name": "stdout",
     "output_type": "stream",
     "text": [
      "請輸入1~5的數字 4\n",
      "[[ 0  2  2 -5 -1]\n",
      " [-3 -3 -1  0  0]\n",
      " [-3 -2 -2 -3 -1]\n",
      " [-1  2 -5 -6 -5]\n",
      " [ 4  4  3 -3  2]] 產出的矩陣\n",
      "rank為 4\n"
     ]
    }
   ],
   "source": [
    "A = np.random.randint(-6,6,size=[5,5])\n",
    "B = np.linalg.matrix_rank(A)\n",
    "C = input('請輸入1~5的數字 ')\n",
    "C = float(C)\n",
    "while B!=C:\n",
    "    A = np.random.randint(-6,6,size=[5,5])\n",
    "    B = np.linalg.matrix_rank(A)\n",
    "    if B==C:\n",
    "        break\n",
    "print(A,'產出的矩陣')\n",
    "print('rank為',B)"
   ]
  },
  {
   "cell_type": "markdown",
   "metadata": {},
   "source": [
    "### 我們用程式碼試著跑出rank5的結果"
   ]
  },
  {
   "cell_type": "code",
   "execution_count": 3,
   "metadata": {},
   "outputs": [
    {
     "name": "stdout",
     "output_type": "stream",
     "text": [
      "請輸入1~5的數字 5\n",
      "[[-3  1  0 -4 -5]\n",
      " [ 4 -1  1 -4 -1]\n",
      " [-4 -1 -4 -3 -1]\n",
      " [-1  0 -2 -1  5]\n",
      " [-2 -2  3 -2 -5]] 產出的矩陣\n",
      "rank為 5\n"
     ]
    }
   ],
   "source": [
    "A = np.random.randint(-6,6,size=[5,5])\n",
    "B = np.linalg.matrix_rank(A)\n",
    "C = input('請輸入1~5的數字 ')\n",
    "C = float(C)\n",
    "while B!=C:\n",
    "    A = np.random.randint(-6,6,size=[5,5])\n",
    "    B = np.linalg.matrix_rank(A)\n",
    "    if B==C:\n",
    "        break\n",
    "print(A,'產出的矩陣')\n",
    "print('rank為',B)"
   ]
  },
  {
   "cell_type": "code",
   "execution_count": null,
   "metadata": {},
   "outputs": [],
   "source": []
  }
 ],
 "metadata": {
  "kernelspec": {
   "display_name": "Python 3",
   "language": "python",
   "name": "python3"
  },
  "language_info": {
   "codemirror_mode": {
    "name": "ipython",
    "version": 3
   },
   "file_extension": ".py",
   "mimetype": "text/x-python",
   "name": "python",
   "nbconvert_exporter": "python",
   "pygments_lexer": "ipython3",
   "version": "3.8.5"
  }
 },
 "nbformat": 4,
 "nbformat_minor": 4
}
