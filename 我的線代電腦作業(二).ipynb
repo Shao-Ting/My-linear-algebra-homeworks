{
 "cells": [
  {
   "cell_type": "code",
   "execution_count": 1,
   "metadata": {},
   "outputs": [],
   "source": [
    "%matplotlib inline\n",
    "\n",
    "import numpy as np\n",
    "import sympy as sp\n",
    "import matplotlib.pyplot as plt"
   ]
  },
  {
   "cell_type": "markdown",
   "metadata": {},
   "source": [
    "## 自己出一個題目並檢查是否線性獨立"
   ]
  },
  {
   "cell_type": "markdown",
   "metadata": {},
   "source": [
    "S = {(1,2,3,4,5),(6,7,8,9,10),(2,4,6,8,10),(1,3,5,7,9),(5,4,3,2,1)}\n",
    "檢查S是否線性獨立"
   ]
  },
  {
   "cell_type": "code",
   "execution_count": 2,
   "metadata": {},
   "outputs": [],
   "source": [
    "A = sp.Matrix([[1,2,3,4,5],[6,7,8,9,10],[2,4,6,8,10],[1,3,5,7,9],[5,4,3,2,1]]).transpose()"
   ]
  },
  {
   "cell_type": "code",
   "execution_count": 3,
   "metadata": {},
   "outputs": [
    {
     "data": {
      "text/latex": [
       "$\\displaystyle \\left[\\begin{matrix}1 & 6 & 2 & 1 & 5\\\\2 & 7 & 4 & 3 & 4\\\\3 & 8 & 6 & 5 & 3\\\\4 & 9 & 8 & 7 & 2\\\\5 & 10 & 10 & 9 & 1\\end{matrix}\\right]$"
      ],
      "text/plain": [
       "Matrix([\n",
       "[1,  6,  2, 1, 5],\n",
       "[2,  7,  4, 3, 4],\n",
       "[3,  8,  6, 5, 3],\n",
       "[4,  9,  8, 7, 2],\n",
       "[5, 10, 10, 9, 1]])"
      ]
     },
     "execution_count": 3,
     "metadata": {},
     "output_type": "execute_result"
    }
   ],
   "source": [
    "A"
   ]
  },
  {
   "cell_type": "code",
   "execution_count": 4,
   "metadata": {},
   "outputs": [
    {
     "data": {
      "text/plain": [
       "(Matrix([\n",
       " [1, 0, 2, 11/5, -11/5],\n",
       " [0, 1, 0, -1/5,   6/5],\n",
       " [0, 0, 0,    0,     0],\n",
       " [0, 0, 0,    0,     0],\n",
       " [0, 0, 0,    0,     0]]), (0, 1))"
      ]
     },
     "execution_count": 4,
     "metadata": {},
     "output_type": "execute_result"
    }
   ],
   "source": [
    "A.rref()"
   ]
  },
  {
   "cell_type": "code",
   "execution_count": 5,
   "metadata": {},
   "outputs": [
    {
     "data": {
      "text/latex": [
       "$\\displaystyle \\left[\\begin{matrix}1 & 0 & 2 & \\frac{11}{5} & - \\frac{11}{5}\\\\0 & 1 & 0 & - \\frac{1}{5} & \\frac{6}{5}\\\\0 & 0 & 0 & 0 & 0\\\\0 & 0 & 0 & 0 & 0\\\\0 & 0 & 0 & 0 & 0\\end{matrix}\\right]$"
      ],
      "text/plain": [
       "Matrix([\n",
       "[1, 0, 2, 11/5, -11/5],\n",
       "[0, 1, 0, -1/5,   6/5],\n",
       "[0, 0, 0,    0,     0],\n",
       "[0, 0, 0,    0,     0],\n",
       "[0, 0, 0,    0,     0]])"
      ]
     },
     "execution_count": 5,
     "metadata": {},
     "output_type": "execute_result"
    }
   ],
   "source": [
    "A.rref()[0]"
   ]
  },
  {
   "cell_type": "markdown",
   "metadata": {},
   "source": [
    "### 表示只有前兩個向量線性獨立,後三項可被前二項生成\n",
    "#### 多放一些向量,再試一次"
   ]
  },
  {
   "cell_type": "code",
   "execution_count": 7,
   "metadata": {},
   "outputs": [],
   "source": [
    "B = sp.Matrix([[1,2,3,4,5],[6,7,8,9,10],[0,0,5,6,7],[1,-1,1,-1,1],\n",
    "               [0,0,1,2,3],[1,0,3,1,0],[2,0,4,2,0],[9,0,2,1,2]]).transpose()"
   ]
  },
  {
   "cell_type": "code",
   "execution_count": 8,
   "metadata": {},
   "outputs": [
    {
     "data": {
      "text/latex": [
       "$\\displaystyle \\left[\\begin{matrix}1 & 6 & 0 & 1 & 0 & 1 & 2 & 9\\\\2 & 7 & 0 & -1 & 0 & 0 & 0 & 0\\\\3 & 8 & 5 & 1 & 1 & 3 & 4 & 2\\\\4 & 9 & 6 & -1 & 2 & 1 & 2 & 1\\\\5 & 10 & 7 & 1 & 3 & 0 & 0 & 2\\end{matrix}\\right]$"
      ],
      "text/plain": [
       "Matrix([\n",
       "[1,  6, 0,  1, 0, 1, 2, 9],\n",
       "[2,  7, 0, -1, 0, 0, 0, 0],\n",
       "[3,  8, 5,  1, 1, 3, 4, 2],\n",
       "[4,  9, 6, -1, 2, 1, 2, 1],\n",
       "[5, 10, 7,  1, 3, 0, 0, 2]])"
      ]
     },
     "execution_count": 8,
     "metadata": {},
     "output_type": "execute_result"
    }
   ],
   "source": [
    "B"
   ]
  },
  {
   "cell_type": "code",
   "execution_count": 9,
   "metadata": {},
   "outputs": [
    {
     "data": {
      "text/plain": [
       "(Matrix([\n",
       " [1, 0, 0, 0, 0, -3/4, -14/5, -113/10],\n",
       " [0, 1, 0, 0, 0,  1/4,   4/5,   33/10],\n",
       " [0, 0, 1, 0, 0,    1,   3/2,     1/4],\n",
       " [0, 0, 0, 1, 0,  1/4,     0,     1/2],\n",
       " [0, 0, 0, 0, 1,   -2,  -3/2,    31/4]]), (0, 1, 2, 3, 4))"
      ]
     },
     "execution_count": 9,
     "metadata": {},
     "output_type": "execute_result"
    }
   ],
   "source": [
    "B.rref()"
   ]
  },
  {
   "cell_type": "code",
   "execution_count": 10,
   "metadata": {},
   "outputs": [
    {
     "data": {
      "text/latex": [
       "$\\displaystyle \\left[\\begin{matrix}1 & 0 & 0 & 0 & 0 & - \\frac{3}{4} & - \\frac{14}{5} & - \\frac{113}{10}\\\\0 & 1 & 0 & 0 & 0 & \\frac{1}{4} & \\frac{4}{5} & \\frac{33}{10}\\\\0 & 0 & 1 & 0 & 0 & 1 & \\frac{3}{2} & \\frac{1}{4}\\\\0 & 0 & 0 & 1 & 0 & \\frac{1}{4} & 0 & \\frac{1}{2}\\\\0 & 0 & 0 & 0 & 1 & -2 & - \\frac{3}{2} & \\frac{31}{4}\\end{matrix}\\right]$"
      ],
      "text/plain": [
       "Matrix([\n",
       "[1, 0, 0, 0, 0, -3/4, -14/5, -113/10],\n",
       "[0, 1, 0, 0, 0,  1/4,   4/5,   33/10],\n",
       "[0, 0, 1, 0, 0,    1,   3/2,     1/4],\n",
       "[0, 0, 0, 1, 0,  1/4,     0,     1/2],\n",
       "[0, 0, 0, 0, 1,   -2,  -3/2,    31/4]])"
      ]
     },
     "execution_count": 10,
     "metadata": {},
     "output_type": "execute_result"
    }
   ],
   "source": [
    "B.rref()[0]"
   ]
  },
  {
   "cell_type": "markdown",
   "metadata": {},
   "source": [
    "### 表示前五個向量線性獨立,後三項可被前五項生成"
   ]
  },
  {
   "cell_type": "code",
   "execution_count": null,
   "metadata": {},
   "outputs": [],
   "source": []
  }
 ],
 "metadata": {
  "kernelspec": {
   "display_name": "Python 3",
   "language": "python",
   "name": "python3"
  },
  "language_info": {
   "codemirror_mode": {
    "name": "ipython",
    "version": 3
   },
   "file_extension": ".py",
   "mimetype": "text/x-python",
   "name": "python",
   "nbconvert_exporter": "python",
   "pygments_lexer": "ipython3",
   "version": "3.7.3"
  }
 },
 "nbformat": 4,
 "nbformat_minor": 2
}
