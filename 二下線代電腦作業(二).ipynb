{
 "cells": [
  {
   "cell_type": "code",
   "execution_count": 1,
   "id": "a7670d6f",
   "metadata": {},
   "outputs": [],
   "source": [
    "%matplotlib inline\n",
    "\n",
    "import numpy as np\n",
    "import sympy as sp\n",
    "import matplotlib.pyplot as plt"
   ]
  },
  {
   "cell_type": "markdown",
   "id": "c06f540f",
   "metadata": {},
   "source": [
    "## 算f, g內積"
   ]
  },
  {
   "cell_type": "code",
   "execution_count": 2,
   "id": "349647ef",
   "metadata": {},
   "outputs": [],
   "source": [
    "import math\n",
    "from sympy import *"
   ]
  },
  {
   "cell_type": "code",
   "execution_count": 6,
   "id": "491aa03e",
   "metadata": {},
   "outputs": [],
   "source": [
    "x = symbols('x')\n",
    "f = 3*x**2 -2*x +5\n",
    "g = sp.cos(x)"
   ]
  },
  {
   "cell_type": "code",
   "execution_count": 7,
   "id": "e83b604a",
   "metadata": {},
   "outputs": [
    {
     "data": {
      "text/latex": [
       "$\\displaystyle - 12 \\pi$"
      ],
      "text/plain": [
       "-12*pi"
      ]
     },
     "execution_count": 7,
     "metadata": {},
     "output_type": "execute_result"
    }
   ],
   "source": [
    "integrate(f*g, (x,-sp.pi,sp.pi))"
   ]
  },
  {
   "cell_type": "markdown",
   "id": "d4dfe8ab",
   "metadata": {},
   "source": [
    "## 算{1, x, x^2, x^3, x^4, x^5}的G-S"
   ]
  },
  {
   "cell_type": "code",
   "execution_count": 14,
   "id": "dc057314",
   "metadata": {},
   "outputs": [],
   "source": [
    "L = [Matrix([1, x, x**2, x**3, x**4, x**5])]"
   ]
  },
  {
   "cell_type": "code",
   "execution_count": 15,
   "id": "0f606567",
   "metadata": {},
   "outputs": [],
   "source": [
    "ham = GramSchmidt(L)"
   ]
  },
  {
   "cell_type": "code",
   "execution_count": 16,
   "id": "36b51ddb",
   "metadata": {},
   "outputs": [
    {
     "data": {
      "text/plain": [
       "[Matrix([\n",
       " [   1],\n",
       " [   x],\n",
       " [x**2],\n",
       " [x**3],\n",
       " [x**4],\n",
       " [x**5]])]"
      ]
     },
     "execution_count": 16,
     "metadata": {},
     "output_type": "execute_result"
    }
   ],
   "source": [
    "ham"
   ]
  },
  {
   "cell_type": "code",
   "execution_count": 17,
   "id": "6d6d51d3",
   "metadata": {},
   "outputs": [],
   "source": [
    "ham2 = GramSchmidt(L,True)"
   ]
  },
  {
   "cell_type": "code",
   "execution_count": 19,
   "id": "f6ef7185",
   "metadata": {},
   "outputs": [
    {
     "data": {
      "text/plain": [
       "[Matrix([\n",
       " [   1/sqrt(Abs(x)**2 + Abs(x**2)**2 + Abs(x**3)**2 + Abs(x**4)**2 + Abs(x**5)**2 + 1)],\n",
       " [   x/sqrt(Abs(x)**2 + Abs(x**2)**2 + Abs(x**3)**2 + Abs(x**4)**2 + Abs(x**5)**2 + 1)],\n",
       " [x**2/sqrt(Abs(x)**2 + Abs(x**2)**2 + Abs(x**3)**2 + Abs(x**4)**2 + Abs(x**5)**2 + 1)],\n",
       " [x**3/sqrt(Abs(x)**2 + Abs(x**2)**2 + Abs(x**3)**2 + Abs(x**4)**2 + Abs(x**5)**2 + 1)],\n",
       " [x**4/sqrt(Abs(x)**2 + Abs(x**2)**2 + Abs(x**3)**2 + Abs(x**4)**2 + Abs(x**5)**2 + 1)],\n",
       " [x**5/sqrt(Abs(x)**2 + Abs(x**2)**2 + Abs(x**3)**2 + Abs(x**4)**2 + Abs(x**5)**2 + 1)]])]"
      ]
     },
     "execution_count": 19,
     "metadata": {},
     "output_type": "execute_result"
    }
   ],
   "source": [
    "ham2"
   ]
  },
  {
   "cell_type": "code",
   "execution_count": null,
   "id": "c0fb7e39",
   "metadata": {},
   "outputs": [],
   "source": []
  }
 ],
 "metadata": {
  "kernelspec": {
   "display_name": "Python 3",
   "language": "python",
   "name": "python3"
  },
  "language_info": {
   "codemirror_mode": {
    "name": "ipython",
    "version": 3
   },
   "file_extension": ".py",
   "mimetype": "text/x-python",
   "name": "python",
   "nbconvert_exporter": "python",
   "pygments_lexer": "ipython3",
   "version": "3.8.8"
  }
 },
 "nbformat": 4,
 "nbformat_minor": 5
}
